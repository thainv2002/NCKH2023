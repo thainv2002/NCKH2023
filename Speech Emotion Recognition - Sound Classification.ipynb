{
 "cells": [
  {
   "cell_type": "code",
   "execution_count": 1,
   "metadata": {
    "_cell_guid": "b1076dfc-b9ad-4769-8c92-a6c4dae69d19",
    "_uuid": "8f2839f25d086af736a60e9eeb907d3b93b6e0e5",
    "execution": {
     "iopub.execute_input": "2021-11-20T14:01:09.912865Z",
     "iopub.status.busy": "2021-11-20T14:01:09.911942Z",
     "iopub.status.idle": "2021-11-20T14:01:09.934081Z",
     "shell.execute_reply": "2021-11-20T14:01:09.932950Z",
     "shell.execute_reply.started": "2021-11-20T14:01:09.912751Z"
    }
   },
   "outputs": [],
   "source": [
    "# This Python 3 environment comes with many helpful analytics libraries installed\n",
    "# It is defined by the kaggle/python Docker image: https://github.com/kaggle/docker-python\n",
    "# For example, here's several helpful packages to load\n",
    "\n",
    "import numpy as np # linear algebra\n",
    "import pandas as pd # data processing, CSV file I/O (e.g. pd.read_csv)\n",
    "\n",
    "# Input data files are available in the read-only \"../input/\" directory\n",
    "# For example, running this (by clicking run or pressing Shift+Enter) will list all files under the input directory\n",
    "\n",
    "# import os\n",
    "# for dirname, _, filenames in os.walk('/kaggle/input'):\n",
    "#     for filename in filenames:\n",
    "#         print(os.path.join(dirname, filename))\n",
    "\n",
    "# You can write up to 20GB to the current directory (/kaggle/working/) that gets preserved as output when you create a version using \"Save & Run All\" \n",
    "# You can also write temporary files to /kaggle/temp/, but they won't be saved outside of the current session"
   ]
  },
  {
   "cell_type": "markdown",
   "metadata": {},
   "source": [
    "## Import Modules"
   ]
  },
  {
   "cell_type": "code",
   "execution_count": 2,
   "metadata": {
    "execution": {
     "iopub.execute_input": "2021-11-20T14:01:09.938413Z",
     "iopub.status.busy": "2021-11-20T14:01:09.937370Z",
     "iopub.status.idle": "2021-11-20T14:01:12.272429Z",
     "shell.execute_reply": "2021-11-20T14:01:12.271303Z",
     "shell.execute_reply.started": "2021-11-20T14:01:09.938351Z"
    }
   },
   "outputs": [],
   "source": [
    "import pandas as pd\n",
    "import numpy as np\n",
    "import os\n",
    "import seaborn as sns\n",
    "import matplotlib.pyplot as plt\n",
    "import librosa\n",
    "import librosa.display\n",
    "from IPython.display import Audio\n",
    "import warnings\n",
    "warnings.filterwarnings('ignore')"
   ]
  },
  {
   "cell_type": "markdown",
   "metadata": {},
   "source": [
    "## Load the Dataset"
   ]
  },
  {
   "cell_type": "code",
   "execution_count": 3,
   "metadata": {
    "execution": {
     "iopub.execute_input": "2021-11-20T14:01:12.274998Z",
     "iopub.status.busy": "2021-11-20T14:01:12.274650Z",
     "iopub.status.idle": "2021-11-20T14:01:13.557870Z",
     "shell.execute_reply": "2021-11-20T14:01:13.556832Z",
     "shell.execute_reply.started": "2021-11-20T14:01:12.274953Z"
    }
   },
   "outputs": [],
   "source": [
    "paths = []\n",
    "labels = []\n",
    "for dirname, _, filenames in os.walk('/kaggle/input'):\n",
    "    for filename in filenames:\n",
    "        paths.append(os.path.join(dirname, filename))\n",
    "        label = filename.split('_')[-1]\n",
    "        label = label.split('.')[0]\n",
    "        labels.append(label.lower())\n",
    "print('Dataset is Loaded')"
   ]
  },
  {
   "cell_type": "code",
   "execution_count": 4,
   "metadata": {
    "execution": {
     "iopub.execute_input": "2021-11-20T14:01:13.560654Z",
     "iopub.status.busy": "2021-11-20T14:01:13.559486Z",
     "iopub.status.idle": "2021-11-20T14:01:13.572284Z",
     "shell.execute_reply": "2021-11-20T14:01:13.571225Z",
     "shell.execute_reply.started": "2021-11-20T14:01:13.560610Z"
    }
   },
   "outputs": [],
   "source": [
    "paths[:5]"
   ]
  },
  {
   "cell_type": "code",
   "execution_count": 5,
   "metadata": {
    "execution": {
     "iopub.execute_input": "2021-11-20T14:01:13.576708Z",
     "iopub.status.busy": "2021-11-20T14:01:13.576299Z",
     "iopub.status.idle": "2021-11-20T14:01:13.586238Z",
     "shell.execute_reply": "2021-11-20T14:01:13.584872Z",
     "shell.execute_reply.started": "2021-11-20T14:01:13.576664Z"
    }
   },
   "outputs": [],
   "source": [
    "labels[:5]"
   ]
  },
  {
   "cell_type": "code",
   "execution_count": 6,
   "metadata": {
    "execution": {
     "iopub.execute_input": "2021-11-20T14:01:13.588833Z",
     "iopub.status.busy": "2021-11-20T14:01:13.588267Z",
     "iopub.status.idle": "2021-11-20T14:01:13.619965Z",
     "shell.execute_reply": "2021-11-20T14:01:13.618822Z",
     "shell.execute_reply.started": "2021-11-20T14:01:13.588734Z"
    }
   },
   "outputs": [],
   "source": [
    "## Create a dataframe\n",
    "df = pd.DataFrame()\n",
    "df['speech'] = paths\n",
    "df['label'] = labels\n",
    "df.head()"
   ]
  },
  {
   "cell_type": "code",
   "execution_count": 7,
   "metadata": {
    "execution": {
     "iopub.execute_input": "2021-11-20T14:01:13.622256Z",
     "iopub.status.busy": "2021-11-20T14:01:13.621911Z",
     "iopub.status.idle": "2021-11-20T14:01:13.634977Z",
     "shell.execute_reply": "2021-11-20T14:01:13.632403Z",
     "shell.execute_reply.started": "2021-11-20T14:01:13.622203Z"
    }
   },
   "outputs": [],
   "source": [
    "df['label'].value_counts()"
   ]
  },
  {
   "cell_type": "markdown",
   "metadata": {},
   "source": [
    "## Exploratory Data Analysis"
   ]
  },
  {
   "cell_type": "code",
   "execution_count": 8,
   "metadata": {
    "execution": {
     "iopub.execute_input": "2021-11-20T14:01:13.638098Z",
     "iopub.status.busy": "2021-11-20T14:01:13.636880Z",
     "iopub.status.idle": "2021-11-20T14:01:13.943613Z",
     "shell.execute_reply": "2021-11-20T14:01:13.942676Z",
     "shell.execute_reply.started": "2021-11-20T14:01:13.638049Z"
    }
   },
   "outputs": [],
   "source": [
    "sns.countplot(df['label'])"
   ]
  },
  {
   "cell_type": "code",
   "execution_count": 9,
   "metadata": {
    "execution": {
     "iopub.execute_input": "2021-11-20T14:01:13.945342Z",
     "iopub.status.busy": "2021-11-20T14:01:13.945001Z",
     "iopub.status.idle": "2021-11-20T14:01:13.953424Z",
     "shell.execute_reply": "2021-11-20T14:01:13.952278Z",
     "shell.execute_reply.started": "2021-11-20T14:01:13.945298Z"
    }
   },
   "outputs": [],
   "source": [
    "def waveplot(data, sr, emotion):\n",
    "    plt.figure(figsize=(10,4))\n",
    "    plt.title(emotion, size=20)\n",
    "    librosa.display.waveplot(data, sr=sr)\n",
    "    plt.show()\n",
    "    \n",
    "def spectogram(data, sr, emotion):\n",
    "    x = librosa.stft(data)\n",
    "    xdb = librosa.amplitude_to_db(abs(x))\n",
    "    plt.figure(figsize=(11,4))\n",
    "    plt.title(emotion, size=20)\n",
    "    librosa.display.specshow(xdb, sr=sr, x_axis='time', y_axis='hz')\n",
    "    plt.colorbar()"
   ]
  },
  {
   "cell_type": "code",
   "execution_count": 10,
   "metadata": {
    "execution": {
     "iopub.execute_input": "2021-11-20T14:01:13.955939Z",
     "iopub.status.busy": "2021-11-20T14:01:13.955286Z",
     "iopub.status.idle": "2021-11-20T14:01:15.589611Z",
     "shell.execute_reply": "2021-11-20T14:01:15.588676Z",
     "shell.execute_reply.started": "2021-11-20T14:01:13.955889Z"
    }
   },
   "outputs": [],
   "source": [
    "emotion = 'fear'\n",
    "path = np.array(df['speech'][df['label']==emotion])[0]\n",
    "data, sampling_rate = librosa.load(path)\n",
    "waveplot(data, sampling_rate, emotion)\n",
    "spectogram(data, sampling_rate, emotion)\n",
    "Audio(path)"
   ]
  },
  {
   "cell_type": "code",
   "execution_count": 11,
   "metadata": {
    "execution": {
     "iopub.execute_input": "2021-11-20T14:01:15.592259Z",
     "iopub.status.busy": "2021-11-20T14:01:15.591231Z",
     "iopub.status.idle": "2021-11-20T14:01:16.346637Z",
     "shell.execute_reply": "2021-11-20T14:01:16.345662Z",
     "shell.execute_reply.started": "2021-11-20T14:01:15.592212Z"
    }
   },
   "outputs": [],
   "source": [
    "emotion = 'angry'\n",
    "path = np.array(df['speech'][df['label']==emotion])[1]\n",
    "data, sampling_rate = librosa.load(path)\n",
    "waveplot(data, sampling_rate, emotion)\n",
    "spectogram(data, sampling_rate, emotion)\n",
    "Audio(path)"
   ]
  },
  {
   "cell_type": "code",
   "execution_count": 12,
   "metadata": {
    "execution": {
     "iopub.execute_input": "2021-11-20T14:01:16.349353Z",
     "iopub.status.busy": "2021-11-20T14:01:16.348324Z",
     "iopub.status.idle": "2021-11-20T14:01:17.080581Z",
     "shell.execute_reply": "2021-11-20T14:01:17.079662Z",
     "shell.execute_reply.started": "2021-11-20T14:01:16.349295Z"
    }
   },
   "outputs": [],
   "source": [
    "emotion = 'disgust'\n",
    "path = np.array(df['speech'][df['label']==emotion])[0]\n",
    "data, sampling_rate = librosa.load(path)\n",
    "waveplot(data, sampling_rate, emotion)\n",
    "spectogram(data, sampling_rate, emotion)\n",
    "Audio(path)"
   ]
  },
  {
   "cell_type": "code",
   "execution_count": 13,
   "metadata": {
    "execution": {
     "iopub.execute_input": "2021-11-20T14:01:17.082758Z",
     "iopub.status.busy": "2021-11-20T14:01:17.082008Z",
     "iopub.status.idle": "2021-11-20T14:01:17.908633Z",
     "shell.execute_reply": "2021-11-20T14:01:17.907697Z",
     "shell.execute_reply.started": "2021-11-20T14:01:17.082691Z"
    }
   },
   "outputs": [],
   "source": [
    "emotion = 'neutral'\n",
    "path = np.array(df['speech'][df['label']==emotion])[0]\n",
    "data, sampling_rate = librosa.load(path)\n",
    "waveplot(data, sampling_rate, emotion)\n",
    "spectogram(data, sampling_rate, emotion)\n",
    "Audio(path)"
   ]
  },
  {
   "cell_type": "code",
   "execution_count": 14,
   "metadata": {
    "execution": {
     "iopub.execute_input": "2021-11-20T14:01:17.913724Z",
     "iopub.status.busy": "2021-11-20T14:01:17.913108Z",
     "iopub.status.idle": "2021-11-20T14:01:18.676595Z",
     "shell.execute_reply": "2021-11-20T14:01:18.675648Z",
     "shell.execute_reply.started": "2021-11-20T14:01:17.913679Z"
    }
   },
   "outputs": [],
   "source": [
    "emotion = 'sad'\n",
    "path = np.array(df['speech'][df['label']==emotion])[0]\n",
    "data, sampling_rate = librosa.load(path)\n",
    "waveplot(data, sampling_rate, emotion)\n",
    "spectogram(data, sampling_rate, emotion)\n",
    "Audio(path)"
   ]
  },
  {
   "cell_type": "code",
   "execution_count": 15,
   "metadata": {
    "execution": {
     "iopub.execute_input": "2021-11-20T14:01:18.678958Z",
     "iopub.status.busy": "2021-11-20T14:01:18.678152Z",
     "iopub.status.idle": "2021-11-20T14:01:19.657684Z",
     "shell.execute_reply": "2021-11-20T14:01:19.656697Z",
     "shell.execute_reply.started": "2021-11-20T14:01:18.678907Z"
    }
   },
   "outputs": [],
   "source": [
    "emotion = 'ps'\n",
    "path = np.array(df['speech'][df['label']==emotion])[0]\n",
    "data, sampling_rate = librosa.load(path)\n",
    "waveplot(data, sampling_rate, emotion)\n",
    "spectogram(data, sampling_rate, emotion)\n",
    "Audio(path)"
   ]
  },
  {
   "cell_type": "code",
   "execution_count": 16,
   "metadata": {
    "execution": {
     "iopub.execute_input": "2021-11-20T14:01:19.660231Z",
     "iopub.status.busy": "2021-11-20T14:01:19.659540Z",
     "iopub.status.idle": "2021-11-20T14:01:20.596687Z",
     "shell.execute_reply": "2021-11-20T14:01:20.595875Z",
     "shell.execute_reply.started": "2021-11-20T14:01:19.660188Z"
    }
   },
   "outputs": [],
   "source": [
    "emotion = 'happy'\n",
    "path = np.array(df['speech'][df['label']==emotion])[0]\n",
    "data, sampling_rate = librosa.load(path)\n",
    "waveplot(data, sampling_rate, emotion)\n",
    "spectogram(data, sampling_rate, emotion)\n",
    "Audio(path)"
   ]
  },
  {
   "cell_type": "markdown",
   "metadata": {},
   "source": [
    "## Feature Extraction"
   ]
  },
  {
   "cell_type": "code",
   "execution_count": 17,
   "metadata": {
    "execution": {
     "iopub.execute_input": "2021-11-20T14:01:20.604457Z",
     "iopub.status.busy": "2021-11-20T14:01:20.601852Z",
     "iopub.status.idle": "2021-11-20T14:01:20.616628Z",
     "shell.execute_reply": "2021-11-20T14:01:20.613847Z",
     "shell.execute_reply.started": "2021-11-20T14:01:20.604412Z"
    }
   },
   "outputs": [],
   "source": [
    "def extract_mfcc(filename):\n",
    "    y, sr = librosa.load(filename, duration=3, offset=0.5)\n",
    "    mfcc = np.mean(librosa.feature.mfcc(y=y, sr=sr, n_mfcc=40).T, axis=0)\n",
    "    return mfcc"
   ]
  },
  {
   "cell_type": "code",
   "execution_count": 18,
   "metadata": {
    "execution": {
     "iopub.execute_input": "2021-11-20T14:01:20.618440Z",
     "iopub.status.busy": "2021-11-20T14:01:20.617942Z",
     "iopub.status.idle": "2021-11-20T14:01:20.725516Z",
     "shell.execute_reply": "2021-11-20T14:01:20.724709Z",
     "shell.execute_reply.started": "2021-11-20T14:01:20.618389Z"
    }
   },
   "outputs": [],
   "source": [
    "extract_mfcc(df['speech'][0])"
   ]
  },
  {
   "cell_type": "code",
   "execution_count": 19,
   "metadata": {
    "execution": {
     "iopub.execute_input": "2021-11-20T14:01:20.727826Z",
     "iopub.status.busy": "2021-11-20T14:01:20.727171Z",
     "iopub.status.idle": "2021-11-20T14:14:04.624695Z",
     "shell.execute_reply": "2021-11-20T14:14:04.623402Z",
     "shell.execute_reply.started": "2021-11-20T14:01:20.727740Z"
    }
   },
   "outputs": [],
   "source": [
    "X_mfcc = df['speech'].apply(lambda x: extract_mfcc(x))"
   ]
  },
  {
   "cell_type": "code",
   "execution_count": 37,
   "metadata": {
    "execution": {
     "iopub.execute_input": "2021-11-20T14:22:36.061210Z",
     "iopub.status.busy": "2021-11-20T14:22:36.060922Z",
     "iopub.status.idle": "2021-11-20T14:22:36.073277Z",
     "shell.execute_reply": "2021-11-20T14:22:36.072020Z",
     "shell.execute_reply.started": "2021-11-20T14:22:36.061182Z"
    }
   },
   "outputs": [],
   "source": [
    "X_mfcc"
   ]
  },
  {
   "cell_type": "code",
   "execution_count": 38,
   "metadata": {
    "execution": {
     "iopub.execute_input": "2021-11-20T14:23:52.209209Z",
     "iopub.status.busy": "2021-11-20T14:23:52.208935Z",
     "iopub.status.idle": "2021-11-20T14:23:52.227381Z",
     "shell.execute_reply": "2021-11-20T14:23:52.226141Z",
     "shell.execute_reply.started": "2021-11-20T14:23:52.209180Z"
    }
   },
   "outputs": [],
   "source": [
    "X = [x for x in X_mfcc]\n",
    "X = np.array(X)\n",
    "X.shape"
   ]
  },
  {
   "cell_type": "code",
   "execution_count": 39,
   "metadata": {
    "execution": {
     "iopub.execute_input": "2021-11-20T14:24:28.259210Z",
     "iopub.status.busy": "2021-11-20T14:24:28.258644Z",
     "iopub.status.idle": "2021-11-20T14:24:28.266651Z",
     "shell.execute_reply": "2021-11-20T14:24:28.265512Z",
     "shell.execute_reply.started": "2021-11-20T14:24:28.259161Z"
    }
   },
   "outputs": [],
   "source": [
    "## input split\n",
    "X = np.expand_dims(X, -1)\n",
    "X.shape"
   ]
  },
  {
   "cell_type": "code",
   "execution_count": 49,
   "metadata": {
    "execution": {
     "iopub.execute_input": "2021-11-20T14:32:05.647252Z",
     "iopub.status.busy": "2021-11-20T14:32:05.646968Z",
     "iopub.status.idle": "2021-11-20T14:32:05.658444Z",
     "shell.execute_reply": "2021-11-20T14:32:05.657209Z",
     "shell.execute_reply.started": "2021-11-20T14:32:05.647223Z"
    }
   },
   "outputs": [],
   "source": [
    "from sklearn.preprocessing import OneHotEncoder\n",
    "enc = OneHotEncoder()\n",
    "y = enc.fit_transform(df[['label']])"
   ]
  },
  {
   "cell_type": "code",
   "execution_count": 58,
   "metadata": {
    "execution": {
     "iopub.execute_input": "2021-11-20T14:39:51.868365Z",
     "iopub.status.busy": "2021-11-20T14:39:51.868081Z",
     "iopub.status.idle": "2021-11-20T14:39:51.873058Z",
     "shell.execute_reply": "2021-11-20T14:39:51.872159Z",
     "shell.execute_reply.started": "2021-11-20T14:39:51.868336Z"
    }
   },
   "outputs": [],
   "source": [
    "y = y.toarray()"
   ]
  },
  {
   "cell_type": "code",
   "execution_count": 52,
   "metadata": {
    "execution": {
     "iopub.execute_input": "2021-11-20T14:33:00.481834Z",
     "iopub.status.busy": "2021-11-20T14:33:00.481528Z",
     "iopub.status.idle": "2021-11-20T14:33:00.488846Z",
     "shell.execute_reply": "2021-11-20T14:33:00.487744Z",
     "shell.execute_reply.started": "2021-11-20T14:33:00.481791Z"
    }
   },
   "outputs": [],
   "source": [
    "y.shape"
   ]
  },
  {
   "cell_type": "markdown",
   "metadata": {},
   "source": [
    "## Create the LSTM Model"
   ]
  },
  {
   "cell_type": "code",
   "execution_count": 56,
   "metadata": {
    "execution": {
     "iopub.execute_input": "2021-11-20T14:38:04.575161Z",
     "iopub.status.busy": "2021-11-20T14:38:04.574865Z",
     "iopub.status.idle": "2021-11-20T14:38:04.893498Z",
     "shell.execute_reply": "2021-11-20T14:38:04.892489Z",
     "shell.execute_reply.started": "2021-11-20T14:38:04.575121Z"
    }
   },
   "outputs": [],
   "source": [
    "from keras.models import Sequential\n",
    "from keras.layers import Dense, LSTM, Dropout\n",
    "\n",
    "model = Sequential([\n",
    "    LSTM(123, return_sequences=False, input_shape=(40,1)),\n",
    "    Dense(64, activation='relu'),\n",
    "    Dropout(0.2),\n",
    "    Dense(32, activation='relu'),\n",
    "    Dropout(0.2),\n",
    "    Dense(7, activation='softmax')\n",
    "])\n",
    "\n",
    "model.compile(loss='categorical_crossentropy', optimizer='adam', metrics=['accuracy'])\n",
    "model.summary()"
   ]
  },
  {
   "cell_type": "code",
   "execution_count": 59,
   "metadata": {
    "execution": {
     "iopub.execute_input": "2021-11-20T14:39:56.169115Z",
     "iopub.status.busy": "2021-11-20T14:39:56.168568Z",
     "iopub.status.idle": "2021-11-20T14:40:12.974143Z",
     "shell.execute_reply": "2021-11-20T14:40:12.973212Z",
     "shell.execute_reply.started": "2021-11-20T14:39:56.169064Z"
    }
   },
   "outputs": [],
   "source": [
    "# Train the model\n",
    "history = model.fit(X, y, validation_split=0.2, epochs=100, batch_size=512, shuffle=True)"
   ]
  },
  {
   "cell_type": "markdown",
   "metadata": {},
   "source": [
    "## Plot the results"
   ]
  },
  {
   "cell_type": "code",
   "execution_count": 61,
   "metadata": {
    "execution": {
     "iopub.execute_input": "2021-11-20T14:43:51.752675Z",
     "iopub.status.busy": "2021-11-20T14:43:51.752358Z",
     "iopub.status.idle": "2021-11-20T14:43:52.004669Z",
     "shell.execute_reply": "2021-11-20T14:43:52.003679Z",
     "shell.execute_reply.started": "2021-11-20T14:43:51.752642Z"
    }
   },
   "outputs": [],
   "source": [
    "epochs = list(range(100))\n",
    "acc = history.history['accuracy']\n",
    "val_acc = history.history['val_accuracy']\n",
    "\n",
    "plt.plot(epochs, acc, label='train accuracy')\n",
    "plt.plot(epochs, val_acc, label='val accuracy')\n",
    "plt.xlabel('epochs')\n",
    "plt.ylabel('accuracy')\n",
    "plt.legend()\n",
    "plt.show()"
   ]
  },
  {
   "cell_type": "code",
   "execution_count": 62,
   "metadata": {
    "execution": {
     "iopub.execute_input": "2021-11-20T14:44:35.370218Z",
     "iopub.status.busy": "2021-11-20T14:44:35.369653Z",
     "iopub.status.idle": "2021-11-20T14:44:35.632791Z",
     "shell.execute_reply": "2021-11-20T14:44:35.631870Z",
     "shell.execute_reply.started": "2021-11-20T14:44:35.370185Z"
    }
   },
   "outputs": [],
   "source": [
    "loss = history.history['loss']\n",
    "val_loss = history.history['val_loss']\n",
    "\n",
    "plt.plot(epochs, loss, label='train loss')\n",
    "plt.plot(epochs, val_loss, label='val loss')\n",
    "plt.xlabel('epochs')\n",
    "plt.ylabel('loss')\n",
    "plt.legend()\n",
    "plt.show()"
   ]
  },
  {
   "cell_type": "code",
   "execution_count": null,
   "metadata": {},
   "outputs": [],
   "source": []
  },
  {
   "cell_type": "code",
   "execution_count": null,
   "metadata": {},
   "outputs": [],
   "source": []
  }
 ],
 "metadata": {
  "kernelspec": {
   "display_name": "Python 3 (ipykernel)",
   "language": "python",
   "name": "python3"
  },
  "language_info": {
   "codemirror_mode": {
    "name": "ipython",
    "version": 3
   },
   "file_extension": ".py",
   "mimetype": "text/x-python",
   "name": "python",
   "nbconvert_exporter": "python",
   "pygments_lexer": "ipython3",
   "version": "3.9.12"
  }
 },
 "nbformat": 4,
 "nbformat_minor": 4
}
