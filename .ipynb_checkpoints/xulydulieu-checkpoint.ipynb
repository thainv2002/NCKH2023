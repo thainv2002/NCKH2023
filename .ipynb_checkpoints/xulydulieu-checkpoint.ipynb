{
 "cells": [
  {
   "cell_type": "code",
   "execution_count": 8,
   "id": "aed98f51",
   "metadata": {},
   "outputs": [],
   "source": [
    "from pydub import AudioSegment\n",
    "import os\n",
    "input_file_path = 'dudoan/OAF_back_angry'\n",
    "output_dir_path = 'dudoan/'\n",
    "def split_audio_file(input_file_path, output_dir_path, n=2, x=0.5):\n",
    "    # Load file âm thanh đầu vào\n",
    "    audio = AudioSegment.from_file(input_file_path)\n",
    "\n",
    "    # Tính số lượng samples cần cắt\n",
    "    duration = len(audio) / 1000 # Độ dài file âm thanh (đơn vị: giây)\n",
    "    num_samples = int(duration // (n - x) + 1) # Số lượng samples\n",
    "    overlap = int(x * 1000) # Độ chồng lặp (đơn vị: mili giây)\n",
    "\n",
    "    # Cắt file âm thanh thành các sample\n",
    "    samples = audio.split_to_mono()\n",
    "    samples = samples.split(duration / num_samples, overlap=overlap)\n",
    "\n",
    "    # Tạo thư mục chứa các file mới\n",
    "    if not os.path.exists(output_dir_path):\n",
    "        os.makedirs(output_dir_path)\n",
    "\n",
    "    # Lưu các sample thành các file âm thanh mới\n",
    "    for i, sample in enumerate(samples):\n",
    "        # Đặt tên cho file mới\n",
    "        file_name = os.path.splitext(os.path.basename(input_file_path))[0]\n",
    "        file_name += '_{:03d}.wav'.format(i)\n",
    "\n",
    "        # Lưu file mới\n",
    "        output_file_path = os.path.join(output_dir_path, file_name)\n",
    "        sample.export(output_file_path, format='wav')"
   ]
  },
  {
   "cell_type": "code",
   "execution_count": 3,
   "id": "0a021eaa",
   "metadata": {},
   "outputs": [],
   "source": [
    "from pydub import AudioSegment\n",
    "from pydub.utils import make_chunks\n",
    "import os\n",
    "\n",
    "def split_audio_file(input_file_path, output_dir_path, n=2, x=0.5):\n",
    "    # Load file âm thanh đầu vào\n",
    "    audio = AudioSegment.from_file(input_file_path)\n",
    "\n",
    "    # Tính số lượng samples cần cắt\n",
    "    duration = len(audio) / 1000  # Độ dài file âm thanh (đơn vị: giây)\n",
    "    num_samples = int(duration // (n - x) + 1)  # Số lượng samples\n",
    "    overlap = int(x * 1000)  # Độ chồng lặp (đơn vị: mili giây)\n",
    "\n",
    "    # Cắt file âm thanh thành các chunk\n",
    "    chunk_length_ms = int(duration * 1000 / num_samples)  # Độ dài của mỗi chunk (đơn vị: mili giây)\n",
    "    chunks = make_chunks(audio, chunk_length_ms)\n",
    "\n",
    "    # Tạo thư mục chứa các file mới\n",
    "    if not os.path.exists(output_dir_path):\n",
    "        os.makedirs(output_dir_path)\n",
    "\n",
    "    # Lưu các chunk thành các file âm thanh mới\n",
    "    for i, chunk in enumerate(chunks):\n",
    "        # Đặt tên cho file mới\n",
    "        file_name = os.path.splitext(os.path.basename(input_file_path))[0]\n",
    "        file_name += '_{:03d}.wav'.format(i)\n",
    "\n",
    "        # Lưu file mới\n",
    "        output_file_path = os.path.join(output_dir_path, file_name)\n",
    "        chunk.export(output_file_path, format='wav')\n",
    "\n",
    "# Sử dụng hàm split_audio_file\n",
    "input_file_path = 'xulyamthanh/xuly.wav'\n",
    "output_dir_path = 'dudoan/cat'\n",
    "split_audio_file(input_file_path, output_dir_path, n=2, x=0.5)\n",
    "print(\"đã xử lý !\")\n"
   ]
  },
  {
   "cell_type": "code",
   "execution_count": null,
   "id": "4b76c4ab",
   "metadata": {},
   "outputs": [],
   "source": []
  }
 ],
 "metadata": {
  "kernelspec": {
   "display_name": "Python 3 (ipykernel)",
   "language": "python",
   "name": "python3"
  },
  "language_info": {
   "codemirror_mode": {
    "name": "ipython",
    "version": 3
   },
   "file_extension": ".py",
   "mimetype": "text/x-python",
   "name": "python",
   "nbconvert_exporter": "python",
   "pygments_lexer": "ipython3",
   "version": "3.9.12"
  }
 },
 "nbformat": 4,
 "nbformat_minor": 5
}
